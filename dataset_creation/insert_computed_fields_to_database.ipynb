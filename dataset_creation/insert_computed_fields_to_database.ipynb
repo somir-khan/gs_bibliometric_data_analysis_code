{
 "cells": [
  {
   "cell_type": "code",
   "execution_count": null,
   "id": "d9c8153b-e5d7-4cce-97c8-719ab435fb18",
   "metadata": {},
   "outputs": [],
   "source": [
    "import pandas as pd\n",
    "import sqlite3\n",
    "from urllib.parse import urlparse, parse_qs\n",
    "from fuzzywuzzy import fuzz\n",
    "from fuzzywuzzy import process\n",
    "from datetime import datetime\n",
    "from tqdm import tqdm"
   ]
  },
  {
   "cell_type": "code",
   "execution_count": null,
   "id": "6e74a3de-4492-44a4-acae-2f8457274659",
   "metadata": {},
   "outputs": [],
   "source": [
    "con = sqlite3.connect(\"dataset.sqlite3\")\n",
    "df = pd.read_sql_query(\"\"\"SELECT publications.is_processed, publications.scholar_id,\n",
    "                        publications.publication_url,publications.publication_date,\n",
    "                        publications.citations,\n",
    "                        publications.author_names, authors.name FROM publications\n",
    "                        JOIN authors ON publications.scholar_id = authors.scholar_id\n",
    "                        ;\"\"\", con)\n",
    "# Verify that result of SQL query is stored in the dataframe\n",
    "print(df.head())\n",
    "con.close()"
   ]
  },
  {
   "cell_type": "code",
   "execution_count": null,
   "id": "5424f2e4-4405-4936-b372-6bb794d99a7e",
   "metadata": {},
   "outputs": [],
   "source": [
    "def get_publication_computed_fields(row: pd.Series):\n",
    "    total_authors = 0\n",
    "    author_position = 0\n",
    "    is_present = 0\n",
    "    publication_year = None\n",
    "    if row['publication_date'] is not None:\n",
    "        publication_year = extract_year(row['publication_date'])\n",
    "    if row['author_names'] is not None:\n",
    "        name_list =r['author_names'].split(', ')\n",
    "        total_authors = len(name_list)\n",
    "        # print(name_list,id)\n",
    "        closest_match, confidence = process.extractOne(r['name'], name_list,scorer=fuzz.token_set_ratio)\n",
    "        if confidence>75:\n",
    "            is_present = 1\n",
    "            # print(closest_match)\n",
    "            author_position = name_list.index(closest_match)+1\n",
    "        else:\n",
    "            total_authors+=1\n",
    "            author_position = total_authors\n",
    "    return {\n",
    "        'scholar_id': row['scholar_id'],\n",
    "        'publication_url': row[\"publication_url\"],\n",
    "        'total_authors': total_authors,\n",
    "        'author_position': author_position,\n",
    "        'publication_year': publication_year,\n",
    "        'is_present': is_present\n",
    "        }\n",
    "\n",
    "\n",
    "\n",
    "\n",
    "def extract_year(value):\n",
    "    try:\n",
    "        dt = datetime.strptime(value, '%Y/%m/%d')\n",
    "        return dt.year\n",
    "    except ValueError:\n",
    "        try:\n",
    "            dt = datetime.strptime(value, '%Y')\n",
    "            return dt.year\n",
    "        except ValueError:\n",
    "            return None"
   ]
  },
  {
   "cell_type": "code",
   "execution_count": null,
   "id": "fcc700fb-2bc3-4f0b-9127-fc81e4af2f16",
   "metadata": {},
   "outputs": [],
   "source": [
    "conn = sqlite3.connect('CitationDataset.sqlite3')\n",
    "\n",
    "# Create a cursor object to execute SQL commands\n",
    "cursor = conn.cursor()\n",
    "\n",
    "with tqdm(total=len(df)) as pbar:\n",
    "    for i,r in df.iterrows():\n",
    "        computed_fields = get_publication_computed_fields(r)\n",
    "        pbar.update(1)\n",
    "        # print(computed_fields,r)\n",
    "        cursor.execute(\"\"\"\n",
    "    INSERT INTO\n",
    "        publications_computed_fields\n",
    "        (publication_url, author_position, total_authors, author_present, publication_year,scholar_id)\n",
    "    VALUES\n",
    "        (:publication_url, :author_position, :total_authors, :is_present, :publication_year,:scholar_id)\"\"\", computed_fields)\n",
    "    \n",
    "    # cursor.execute(\"UPDATE publications SET author_position = ?, author_present = ? WHERE id = ?\", (author_position,not_found,id))\n",
    "    # print(author_position,not_found)\n",
    "# Commit the changes\n",
    "conn.commit()\n",
    "\n",
    "conn.close()\n",
    "print('Successfully executed')"
   ]
  },
  {
   "cell_type": "code",
   "execution_count": null,
   "id": "30aa392a-1f0a-42d2-94cf-0a65d8c9a214",
   "metadata": {},
   "outputs": [],
   "source": [
    "con = sqlite3.connect(\"CitationDataset.sqlite3\")\n",
    "publication_computed_df = pd.read_sql_query(\"\"\"SELECT publications.publication_url, publications.scholar_id,\n",
    "                        publications.citations,publications_computed_fields.total_authors,\n",
    "                        publications_computed_fields.author_position, publications_computed_fields.author_present FROM publications\n",
    "                        JOIN publications_computed_fields ON publications.publication_url = publications_computed_fields.publication_url\n",
    "                        ;\"\"\", con)\n",
    "scholar_ids = pd.read_sql_query(\"\"\"select distinct(scholar_id) from publications;\"\"\",con)\n",
    "# Verify that result of SQL query is stored in the dataframe\n",
    "print(publication_computed_df.head())\n",
    "con.close()"
   ]
  },
  {
   "cell_type": "code",
   "execution_count": null,
   "id": "baf18af1-6e49-4a2c-bc70-833a6024d91a",
   "metadata": {},
   "outputs": [],
   "source": [
    "def calculate_h_index(works_df:pd.DataFrame):\n",
    "    works_df.sort_values('citations', inplace=True,ascending=False)\n",
    "    h_index=0.0\n",
    "    for i,r in works_df.iterrows():\n",
    "        if h_index+1 > r['citations']:\n",
    "            break\n",
    "        h_index+=1\n",
    "    return h_index"
   ]
  },
  {
   "cell_type": "code",
   "execution_count": null,
   "id": "12e3955c-9b90-47f8-bec9-ad832f98fe10",
   "metadata": {},
   "outputs": [],
   "source": [
    "#add average position, average authors and calculated h-index\n",
    "con = sqlite3.connect(\"/home/somir/Desktop/CitationDataset/CitationDataset.sqlite3\")\n",
    "c = con.cursor()\n",
    "with tqdm(total=len(scholar_ids)) as pbar:\n",
    "    for i,r in scholar_ids.iterrows():\n",
    "        # print(r)\n",
    "        temp_df = publication_computed_df[publication_computed_df['scholar_id']==r['scholar_id']].copy()\n",
    "        h_index = calculate_h_index(temp_df)\n",
    "        avg_authors = temp_df.groupby('scholar_id')['total_authors'].mean()\n",
    "        avg_author_position = temp_df.groupby('scholar_id')['author_position'].mean()\n",
    "        # print(h_index,avg_authors.values[0],avg_author_position.values[0])\n",
    "        con.execute(\"\"\"\n",
    "    INSERT INTO\n",
    "        authors_computed_fields\n",
    "        (scholar_id, calculated_h_index, avg_authors, avg_position)\n",
    "    VALUES\n",
    "        (?, ?, ?, ?)\"\"\", (r['scholar_id'],h_index,avg_authors.values[0],avg_author_position.values[0]))\n",
    "        pbar.update(1)\n",
    "    con.commit()\n",
    "    con.close()"
   ]
  },
  {
   "cell_type": "code",
   "execution_count": null,
   "id": "faff537e-ff96-405a-ad80-817dce1ed30b",
   "metadata": {},
   "outputs": [],
   "source": []
  }
 ],
 "metadata": {
  "kernelspec": {
   "display_name": "Python 3 (ipykernel)",
   "language": "python",
   "name": "python3"
  },
  "language_info": {
   "codemirror_mode": {
    "name": "ipython",
    "version": 3
   },
   "file_extension": ".py",
   "mimetype": "text/x-python",
   "name": "python",
   "nbconvert_exporter": "python",
   "pygments_lexer": "ipython3",
   "version": "3.12.3"
  }
 },
 "nbformat": 4,
 "nbformat_minor": 5
}
