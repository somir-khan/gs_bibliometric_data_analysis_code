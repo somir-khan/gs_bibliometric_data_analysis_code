{
 "cells": [
  {
   "cell_type": "code",
   "execution_count": null,
   "id": "908b9194-c5a7-42d4-8e62-f56fffc564c4",
   "metadata": {},
   "outputs": [],
   "source": [
    "# import libraries\n",
    "import pandas as pd\n",
    "import numpy as np\n",
    "import ast\n",
    "import matplotlib.pyplot as plt\n",
    "from itables import init_notebook_mode, show\n",
    "init_notebook_mode(all_interactive=False)\n",
    "pd.set_option('display.max_columns', 50)\n",
    "import sqlite3\n",
    "import matplotlib.dates as mdates\n",
    "import holoviews as hv\n",
    "from holoviews import opts\n",
    "hv.extension('bokeh')\n",
    "from bokeh.models import HoverTool\n",
    "from IPython.display import HTML, display"
   ]
  },
  {
   "cell_type": "code",
   "execution_count": null,
   "id": "29c73c8e-4f57-4ec9-9c26-4a82beb445dd",
   "metadata": {},
   "outputs": [],
   "source": [
    "con = sqlite3.connect(\"dataset.sqlite3\")\n",
    "df = pd.read_sql_query('''SELECT authors.field,authors.sub_field,authors.scholar_id,\n",
    "                        publication_url,publication_year, total_authors \n",
    "                        FROM publications_computed_fields join authors\n",
    "                        on publications_computed_fields.scholar_id=authors.scholar_id where publication_year<2024 and publication_year is not NULL''', con)\n",
    "\n",
    "con.close()"
   ]
  },
  {
   "cell_type": "code",
   "execution_count": null,
   "id": "9e6be977-95af-4b6e-ba84-d90b1d5cf736",
   "metadata": {},
   "outputs": [],
   "source": [
    "#finding consecutive years data\n",
    "def getcontinuousData(df):\n",
    "    all_years = sorted(df['publication_year'].unique())\n",
    "\n",
    "    max_continuous_years = []\n",
    "    current_continuous_years = []\n",
    "\n",
    "    for year in all_years:\n",
    "        if not current_continuous_years or year == current_continuous_years[-1] + 1:\n",
    "            current_continuous_years.append(year)\n",
    "        else:\n",
    "            if len(current_continuous_years) > len(max_continuous_years):\n",
    "                max_continuous_years = current_continuous_years\n",
    "            current_continuous_years = [year]\n",
    "\n",
    "    if len(current_continuous_years) > len(max_continuous_years):\n",
    "        max_continuous_years = current_continuous_years\n",
    "    \n",
    "    # If consecutive years are found, select the corresponding portion of the DataFrame\n",
    "    if max_continuous_years:\n",
    "        start_year = max_continuous_years[0]\n",
    "        end_year = max_continuous_years[-1]\n",
    "        selected_data = df[(df['publication_year'] >= start_year) & (df['publication_year'] <= end_year)].sort_values(by=['publication_year'], ascending=True)\n",
    "\n",
    "        # print(selected_data['publication_year'])\n",
    "        print(start_year,end_year)\n",
    "        return selected_data\n",
    "    else:\n",
    "        print(\"No consecutive years found.\")\n",
    "        return None"
   ]
  },
  {
   "cell_type": "code",
   "execution_count": null,
   "id": "56abe53f-6363-4ccf-9e07-8f8300dfed20",
   "metadata": {},
   "outputs": [],
   "source": [
    "sub_fields = df['sub_field'].unique()"
   ]
  },
  {
   "cell_type": "code",
   "execution_count": null,
   "id": "49400bb1-92a8-42a5-bd1d-abc8a829181f",
   "metadata": {},
   "outputs": [],
   "source": [
    "result_list = []\n",
    "\n",
    "for sub_field in sub_fields:\n",
    "    temp_df = df[(df['sub_field']==sub_field)]\n",
    "    temp_df = getcontinuousData(temp_df)\n",
    "    start_year = temp_df['publication_year'].min()\n",
    "    cnt = temp_df[(temp_df['publication_year']==1980)]['publication_url'].count()\n",
    "    print(sub_field+\"-----------------Year----\"+str(1980)+\"---publication count---\"+str(cnt))\n",
    "    if cnt < 8:\n",
    "        result_list.append({\"sub_field\": sub_field, \"Year\": 1980, \"cnt\": cnt})\n",
    "result_df = pd.DataFrame(result_list)\n",
    "# Save the result to a CSV file\n",
    "result_df.to_csv(\"publication_counts_1980_less_than_8.csv\", index=False)\n",
    "\n",
    "print(\"Results saved to publication_counts_1980.csv\")\n",
    "    # print(temp_df[(temp_df['publication_year']>=1977)].groupby('publication_year')['publication_url'].count())"
   ]
  },
  {
   "cell_type": "code",
   "execution_count": null,
   "id": "3d9a9559-8441-4f58-8227-109b1dce10e2",
   "metadata": {},
   "outputs": [],
   "source": [
    "fields = df['field'].unique()"
   ]
  },
  {
   "cell_type": "code",
   "execution_count": null,
   "id": "47c0bb5f-ab46-4f7c-99cb-08d111f36872",
   "metadata": {},
   "outputs": [],
   "source": [
    "for field in fields:\n",
    "    temp_df = df[(df['field']==field)]\n",
    "    temp_df = getcontinuousData(temp_df)\n",
    "    start_year = temp_df['publication_year'].min()\n",
    "    cnt = temp_df[(temp_df['publication_year']==1980)]['publication_url'].count()\n",
    "    print(field+\"-----------------Year----\"+str(1980)+\"---publication count---\"+str(cnt))\n",
    "    # print(temp_df[(temp_df['publication_year']>=1977)].groupby('publication_year')['publication_url'].count())"
   ]
  },
  {
   "cell_type": "code",
   "execution_count": null,
   "id": "e0a2bc5e-83fa-4526-82c8-1a59be97979c",
   "metadata": {},
   "outputs": [],
   "source": [
    "fields = df['field'].unique()\n",
    "result_list = []\n",
    "min_lim = 10\n",
    "for field in fields:\n",
    "    temp_df = df[(df['field']==field)]\n",
    "    filtered_df = temp_df.groupby('publication_year').filter(lambda x: x['publication_url'].count() >= min_lim)\n",
    "    filtered_df = getcontinuousData(filtered_df)\n",
    "    start_year = filtered_df['publication_year'].min()\n",
    "    cnt = filtered_df[(filtered_df['publication_year']==start_year)]['publication_url'].count()\n",
    "    print(field+\"-----------------Year----\"+str(start_year)+\"---publication count---\"+str(cnt))\n",
    "    result_list.append({\"field\": field, \"year\": start_year, \"publication_count\": cnt})\n",
    "    # print(temp_df[(temp_df['publication_year']>=1977)].groupby('publication_year')['publication_url'].count())\n",
    "\n",
    "result_df = pd.DataFrame(result_list)\n",
    "result_df.to_csv(\"publication_counts_field_min_lim_\"+str(min_lim)+\".csv\", index=False)\n",
    "\n",
    "print(\"Results saved\")\n",
    "\n",
    "\n",
    "# filtered_df = df.groupby('publication_year').filter(lambda x: x['publication_url'].count() >= 10)\n",
    "\n",
    "# filtered_df = getcontinuousData(filtered_df)\n",
    "\n",
    "# temp_df = filtered_df.groupby('publication_year')['publication_url'].count()\n",
    "\n",
    "# print(temp_df.index[0],temp_df.values[0])"
   ]
  },
  {
   "cell_type": "code",
   "execution_count": null,
   "id": "a2dac35b-5889-4b79-8ee8-d99632fc5ef5",
   "metadata": {},
   "outputs": [],
   "source": [
    "sub_fields = df['sub_field'].unique()\n",
    "min_lim = 5\n",
    "\n",
    "result_list = []\n",
    "for sub_field in sub_fields:\n",
    "    temp_df = df[(df['sub_field']==sub_field)]\n",
    "    filtered_df = temp_df.groupby('publication_year').filter(lambda x: x['publication_url'].count() >= min_lim)\n",
    "    filtered_df = getcontinuousData(filtered_df)\n",
    "    start_year = filtered_df['publication_year'].min()\n",
    "    cnt = filtered_df[(filtered_df['publication_year']==start_year)]['publication_url'].count()\n",
    "    print(sub_field+\"-----------------Year----\"+str(start_year)+\"---publication count---\"+str(cnt))\n",
    "    result_list.append({\"sub_field\": sub_field, \"year\": start_year, \"publication_count\": cnt})\n",
    "    # print(temp_df[(temp_df['publication_year']>=1977)].groupby('publication_year')['publication_url'].count())\n",
    "result_df = pd.DataFrame(result_list)\n",
    "result_df.to_csv(\"publication_counts_sub_field_min_lim_\"+str(min_lim)+\".csv\", index=False)"
   ]
  },
  {
   "cell_type": "code",
   "execution_count": null,
   "id": "6b6a35dc-0b4f-44af-89a0-ede729755c34",
   "metadata": {},
   "outputs": [],
   "source": [
    "fields = df['field'].unique()\n",
    "result_list = []\n",
    "for field in fields:\n",
    "    filtered_df = df[(df['field']==field)]\n",
    "    filtered_df = getcontinuousData(filtered_df)\n",
    "    start_year = 1980\n",
    "    cnt = filtered_df[(filtered_df['publication_year']==start_year)]['publication_url'].count()\n",
    "    print(field+\"-----------------Year----\"+str(start_year)+\"---publication count---\"+str(cnt))\n",
    "    result_list.append({\"field\": field, \"year\": start_year, \"publication_count\": cnt})\n",
    "    # print(temp_df[(temp_df['publication_year']>=1977)].groupby('publication_year')['publication_url'].count())\n",
    "\n",
    "result_df = pd.DataFrame(result_list)\n",
    "result_df.to_csv(\"publication_counts_field_1980.csv\", index=False)\n",
    "\n",
    "print(\"Results saved\")"
   ]
  },
  {
   "cell_type": "code",
   "execution_count": null,
   "id": "1aa7054e-a6bb-496f-8245-4f5bad16b3bd",
   "metadata": {},
   "outputs": [],
   "source": [
    "result_list = []\n",
    "years_to_check = [1977, 1978, 1979, 1980, 1981, 1982,1983,1984,1985,1986,1987]\n",
    "\n",
    "for sub_field in sub_fields:\n",
    "    temp_df = df[df['sub_field'] == sub_field]\n",
    "    temp_df = getcontinuousData(temp_df)\n",
    "    counts = {'sub_field': sub_field}\n",
    "    for year in years_to_check:\n",
    "        cnt = temp_df[temp_df['publication_year'] == year]['publication_url'].count()\n",
    "        counts[year] = cnt\n",
    "        print(f\"{sub_field}-----------------Year----{year}---publication count---{cnt}\")\n",
    "    # if any(cnt < 8 for cnt in counts.values()):\n",
    "    result_list.append(counts)\n",
    "\n",
    "result_df = pd.DataFrame(result_list)\n",
    "# Save the result to a CSV file\n",
    "result_df.to_csv(\"publication_counts_1977_1987.csv\", index=False)\n",
    "\n",
    "print(\"Results saved to publication_counts_1977_1987.csv\")"
   ]
  },
  {
   "cell_type": "code",
   "execution_count": null,
   "id": "889ec1e2-4455-40da-aa7f-f9486a5043d5",
   "metadata": {},
   "outputs": [],
   "source": [
    "con = sqlite3.connect(\"dataset.sqlite3\")\n",
    "collection_df = pd.read_sql_query('''SELECT authors.field, authors.sub_field,count(publications.publication_url) as count\n",
    "                        FROM authors left join publications on authors.scholar_id=publications.scholar_id\n",
    "                        group by authors.sub_field,authors.field''', con)\n",
    "\n",
    "con.close()"
   ]
  },
  {
   "cell_type": "code",
   "execution_count": null,
   "id": "9768e91b-eef7-40db-8baa-42476b6a7733",
   "metadata": {},
   "outputs": [],
   "source": [
    "import pandas as pd\n",
    "import matplotlib.pyplot as plt\n",
    "\n",
    "# Plotting\n",
    "fig, ax = plt.subplots(figsize=(10, 6))\n",
    "\n",
    "# Create a bar chart\n",
    "for field in collection_df['field'].unique():\n",
    "    subset = collection_df[collection_df['field'] == field]\n",
    "    ax.barh(subset['sub_field'], subset['count'], label=field)\n",
    "\n",
    "# Adding labels and title\n",
    "ax.set_ylabel('Sub Fields')\n",
    "ax.set_xlabel('Number of Publications')\n",
    "plt.yticks(fontsize = 8)\n",
    "ax.set_title('Number of Publications Collected For Each Sub Field')\n",
    "ax.legend(title='Fields')\n",
    "\n",
    "# Display the plot\n",
    "plt.show()\n"
   ]
  },
  {
   "cell_type": "code",
   "execution_count": null,
   "id": "c8988f0a-2529-473f-b01c-175efe2cd511",
   "metadata": {},
   "outputs": [],
   "source": [
    "con = sqlite3.connect(\"dataset.sqlite3\")\n",
    "collection_df = pd.read_sql_query('''SELECT authors.field, authors.sub_field,count(scholar_id) as count\n",
    "                        FROM authors\n",
    "                        group by authors.sub_field,authors.field''', con)\n",
    "\n",
    "con.close()"
   ]
  },
  {
   "cell_type": "code",
   "execution_count": null,
   "id": "f089549e-e8bf-4442-9692-edeec8034cc3",
   "metadata": {},
   "outputs": [],
   "source": [
    "import pandas as pd\n",
    "import matplotlib.pyplot as plt\n",
    "\n",
    "# Plotting\n",
    "fig, ax = plt.subplots(figsize=(10, 6))\n",
    "\n",
    "# Create a bar chart\n",
    "for field in collection_df['field'].unique():\n",
    "    subset = collection_df[collection_df['field'] == field]\n",
    "    ax.barh(subset['sub_field'], subset['count'], label=field)\n",
    "\n",
    "# Adding labels and title\n",
    "ax.set_ylabel('Sub Fields')\n",
    "ax.set_xlabel('Number of Author Profile')\n",
    "plt.yticks(fontsize = 8)\n",
    "ax.set_title('Number of Profiles Collected For Each Sub Field')\n",
    "ax.legend(title='Fields')\n",
    "plt.savefig('author_profile_by_sub_field.png')\n",
    "# Display the plot\n",
    "\n",
    "# Display the plot\n",
    "plt.show()\n"
   ]
  },
  {
   "cell_type": "code",
   "execution_count": null,
   "id": "8bcd8f1a-5fb2-4270-b1f6-2cf906209574",
   "metadata": {},
   "outputs": [],
   "source": [
    "con = sqlite3.connect(\"dataset.sqlite3\")\n",
    "collection_df_author_field = pd.read_sql_query('''SELECT authors.field,count(scholar_id) as count\n",
    "                        FROM authors group by authors.field''', con)\n",
    "\n",
    "con.close()"
   ]
  },
  {
   "cell_type": "code",
   "execution_count": null,
   "id": "fef21273-3311-409a-b028-6b178e1a9e01",
   "metadata": {},
   "outputs": [],
   "source": [
    "import pandas as pd\n",
    "import matplotlib.pyplot as plt\n",
    "\n",
    "# Plotting\n",
    "fig, ax = plt.subplots(figsize=(10, 6))\n",
    "\n",
    "# Create a bar chart\n",
    "for field in collection_df_author_field['field'].unique():\n",
    "    subset = collection_df_author_field[collection_df_author_field['field'] == field]\n",
    "    ax.barh(subset['field'], subset['count'], label=field)\n",
    "\n",
    "# Adding labels and title\n",
    "ax.set_ylabel('Fields')\n",
    "ax.set_xlabel('Number of Author Profile')\n",
    "plt.yticks(fontsize = 8)\n",
    "ax.set_title('Number of Author Profile Collected For Each Field')\n",
    "ax.legend(title='Fields')\n",
    "plt.savefig('author_profile_by_field.png')\n",
    "# Display the plot\n",
    "plt.show()\n"
   ]
  },
  {
   "cell_type": "code",
   "execution_count": null,
   "id": "2c7efaad-2a0a-432b-9e77-812309be788e",
   "metadata": {},
   "outputs": [],
   "source": []
  }
 ],
 "metadata": {
  "kernelspec": {
   "display_name": "Python 3 (ipykernel)",
   "language": "python",
   "name": "python3"
  },
  "language_info": {
   "codemirror_mode": {
    "name": "ipython",
    "version": 3
   },
   "file_extension": ".py",
   "mimetype": "text/x-python",
   "name": "python",
   "nbconvert_exporter": "python",
   "pygments_lexer": "ipython3",
   "version": "3.12.3"
  }
 },
 "nbformat": 4,
 "nbformat_minor": 5
}
